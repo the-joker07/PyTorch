{
 "cells": [
  {
   "cell_type": "code",
   "execution_count": 1,
   "id": "a1bace30",
   "metadata": {},
   "outputs": [],
   "source": [
    "from torch.utils.data import TensorDataset, DataLoader\n",
    "import torch\n",
    "import pandas as pd\n",
    "from sklearn.preprocessing import StandardScaler\n",
    "from sklearn.model_selection import train_test_split\n",
    "import torch.nn as nn\n",
    "from torch.optim import SGD"
   ]
  },
  {
   "cell_type": "code",
   "execution_count": 2,
   "id": "ba318a3c",
   "metadata": {},
   "outputs": [],
   "source": [
    "salery = pd.read_csv(\"../Data/Salary Data.csv\")\n",
    "\n",
    "X = salery['Experience Years'].values\n",
    "Y = salery['Salary'].values\n",
    "\n",
    "x_train, x_test , y_train, y_test= train_test_split(X, Y, test_size=0.3)\n",
    "\n",
    "xScaler = StandardScaler()\n",
    "yScaler = StandardScaler()\n",
    "\n",
    "x_train = xScaler.fit_transform(x_train.reshape(-1, 1))\n",
    "y_train = yScaler.fit_transform(y_train.reshape(-1, 1))\n",
    "x_test = xScaler.transform(x_test.reshape(-1, 1))\n",
    "y_test = yScaler.transform(y_test.reshape(-1, 1))\n",
    "\n",
    "x_train = torch.tensor(x_train, dtype=torch.float32)\n",
    "y_train = torch.tensor(y_train, dtype=torch.float32)\n",
    "x_test = torch.tensor(x_test, dtype=torch.float32)\n",
    "y_test = torch.tensor(y_test, dtype=torch.float32)"
   ]
  },
  {
   "cell_type": "code",
   "execution_count": 3,
   "id": "4619c87c",
   "metadata": {},
   "outputs": [
    {
     "data": {
      "text/plain": [
       "((tensor([-0.4184]), tensor([-0.6373])),\n",
       " (tensor([-1.6817]), tensor([-1.3427])))"
      ]
     },
     "execution_count": 3,
     "metadata": {},
     "output_type": "execute_result"
    }
   ],
   "source": [
    "trainSet = TensorDataset(x_train, y_train)\n",
    "testSet = TensorDataset(x_test, y_test)\n",
    "trainSet[0], testSet[0]"
   ]
  },
  {
   "cell_type": "code",
   "execution_count": 4,
   "id": "a5b48cbb",
   "metadata": {},
   "outputs": [
    {
     "data": {
      "text/plain": [
       "<torch.utils.data.dataloader.DataLoader at 0x2643d717a10>"
      ]
     },
     "execution_count": 4,
     "metadata": {},
     "output_type": "execute_result"
    }
   ],
   "source": [
    "train_loader = DataLoader(dataset=trainSet, batch_size=5, shuffle=True)\n",
    "test_loader = DataLoader(dataset=testSet, batch_size=5, shuffle=False)\n",
    "train_loader"
   ]
  },
  {
   "cell_type": "markdown",
   "id": "1a462b97",
   "metadata": {},
   "source": [
    "Model"
   ]
  },
  {
   "cell_type": "code",
   "execution_count": 5,
   "id": "805547bd",
   "metadata": {},
   "outputs": [],
   "source": [
    "linearRegression = nn.Linear(1, 1)"
   ]
  },
  {
   "cell_type": "markdown",
   "id": "c0c33719",
   "metadata": {},
   "source": [
    "Loss"
   ]
  },
  {
   "cell_type": "code",
   "execution_count": 6,
   "id": "ec2c9133",
   "metadata": {},
   "outputs": [
    {
     "data": {
      "text/plain": [
       "tensor(2.4533, grad_fn=<MseLossBackward0>)"
      ]
     },
     "execution_count": 6,
     "metadata": {},
     "output_type": "execute_result"
    }
   ],
   "source": [
    "x_batch , y_batch = next(iter(train_loader))\n",
    "lossMSE = nn.MSELoss()\n",
    "y_pred = linearRegression(x_batch)\n",
    "loss = lossMSE(y_pred, y_batch)\n",
    "loss"
   ]
  },
  {
   "cell_type": "markdown",
   "id": "62c35e6b",
   "metadata": {},
   "source": [
    "Gradient & Update"
   ]
  },
  {
   "cell_type": "code",
   "execution_count": null,
   "id": "15042f30",
   "metadata": {},
   "outputs": [],
   "source": [
    "loss.backward()\n",
    "optimizer = SGD(linearRegression.parameters(), lr=0.01, momentum=0.9)\n",
    "optimizer.step()\n",
    "optimizer.zero_grad()\n"
   ]
  },
  {
   "cell_type": "markdown",
   "id": "272a497a",
   "metadata": {},
   "source": [
    "Whole code"
   ]
  },
  {
   "cell_type": "code",
   "execution_count": null,
   "id": "49ff5beb",
   "metadata": {},
   "outputs": [],
   "source": [
    "x_batch , y_batch = next(iter(train_loader))\n",
    "lossMSE = nn.MSELoss()\n",
    "y_pred = linearRegression(x_batch)\n",
    "loss = lossMSE(y_pred, y_batch)\n",
    "loss.backward()\n",
    "optimizer = SGD(linearRegression.parameters(), lr=0.01, momentum=0.9)\n",
    "optimizer.step()\n",
    "optimizer.zero_grad()"
   ]
  },
  {
   "cell_type": "markdown",
   "id": "430591c4",
   "metadata": {},
   "source": [
    "Train Test"
   ]
  },
  {
   "cell_type": "code",
   "execution_count": null,
   "id": "e61d950b",
   "metadata": {},
   "outputs": [
    {
     "name": "stdout",
     "output_type": "stream",
     "text": [
      "Epoch [10/100], Loss: 0.0273\n",
      "Epoch [20/100], Loss: 0.0111\n",
      "Epoch [30/100], Loss: 0.0357\n",
      "Epoch [40/100], Loss: 0.0531\n",
      "Epoch [50/100], Loss: 0.0701\n",
      "Epoch [60/100], Loss: 0.0182\n",
      "Epoch [70/100], Loss: 0.0169\n",
      "Epoch [80/100], Loss: 0.0344\n",
      "Epoch [90/100], Loss: 0.0496\n",
      "Epoch [100/100], Loss: 0.0529\n",
      "Average Test Loss: 0.0690\n"
     ]
    }
   ],
   "source": [
    "salery = pd.read_csv(\"../Data/Salary Data.csv\")\n",
    "\n",
    "X = salery['Experience Years'].values\n",
    "Y = salery['Salary'].values\n",
    "\n",
    "x_train, x_test , y_train, y_test= train_test_split(X, Y, test_size=0.3)\n",
    "\n",
    "xScaler = StandardScaler()\n",
    "yScaler = StandardScaler()\n",
    "\n",
    "x_train = xScaler.fit_transform(x_train.reshape(-1, 1))\n",
    "y_train = yScaler.fit_transform(y_train.reshape(-1, 1))\n",
    "x_test = xScaler.transform(x_test.reshape(-1, 1))\n",
    "y_test = yScaler.transform(y_test.reshape(-1, 1))\n",
    "\n",
    "x_train = torch.tensor(x_train, dtype=torch.float32)\n",
    "y_train = torch.tensor(y_train, dtype=torch.float32)\n",
    "x_test = torch.tensor(x_test, dtype=torch.float32)\n",
    "y_test = torch.tensor(y_test, dtype=torch.float32)\n",
    "\n",
    "trainSet = TensorDataset(x_train, y_train)\n",
    "testSet = TensorDataset(x_test, y_test)\n",
    "train_loader = DataLoader(dataset=trainSet, batch_size=5, shuffle=True)\n",
    "test_loader = DataLoader(dataset=testSet, batch_size=5, shuffle=False)\n",
    "\n",
    "model = nn.Linear(1, 1)\n",
    "lossMSE = nn.MSELoss()\n",
    "optimizer = SGD(model.parameters(), lr=0.01, momentum=0.9)\n",
    "num_epochs = 100\n",
    "\n",
    "for epoch in range(num_epochs):\n",
    "    for x_batch, y_batch in train_loader:\n",
    "        # model\n",
    "        y_pred = model(x_batch)\n",
    "\n",
    "        # loss\n",
    "        loss = lossMSE(y_pred, y_batch)\n",
    "\n",
    "        # backward & optimize\n",
    "        loss.backward()\n",
    "        optimizer.step()\n",
    "        optimizer.zero_grad()\n",
    "    if (epoch+1) % 10 == 0:\n",
    "        print(f'Epoch [{epoch+1}/{num_epochs}], Loss: {loss.item():.4f}')\n",
    "\n",
    "# Evaluate the model\n",
    "with torch.no_grad():\n",
    "    total_loss = 0\n",
    "    for x_batch, y_batch in test_loader:\n",
    "        y_pred = model(x_batch)\n",
    "        loss = lossMSE(y_pred, y_batch)\n",
    "        total_loss += loss.item()\n",
    "    avg_loss = total_loss / len(test_loader)\n",
    "    print(f'Average Test Loss: {avg_loss:.4f}')\n"
   ]
  },
  {
   "cell_type": "code",
   "execution_count": null,
   "id": "6d7fa30d",
   "metadata": {},
   "outputs": [],
   "source": []
  }
 ],
 "metadata": {
  "kernelspec": {
   "display_name": "imageProcess",
   "language": "python",
   "name": "python3"
  },
  "language_info": {
   "codemirror_mode": {
    "name": "ipython",
    "version": 3
   },
   "file_extension": ".py",
   "mimetype": "text/x-python",
   "name": "python",
   "nbconvert_exporter": "python",
   "pygments_lexer": "ipython3",
   "version": "3.14.0"
  }
 },
 "nbformat": 4,
 "nbformat_minor": 5
}
